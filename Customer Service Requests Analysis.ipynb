{
 "cells": [
  {
   "cell_type": "markdown",
   "metadata": {},
   "source": [
    "## Import a 311 NYC service request."
   ]
  },
  {
   "cell_type": "code",
   "execution_count": 29,
   "metadata": {},
   "outputs": [],
   "source": [
    "#Import the required libraries\n",
    "import numpy as np\n",
    "import pandas as pd\n",
    "import seaborn as sns\n",
    "import matplotlib.pyplot as plt"
   ]
  },
  {
   "cell_type": "code",
   "execution_count": 30,
   "metadata": {},
   "outputs": [],
   "source": [
    "%matplotlib inline"
   ]
  },
  {
   "cell_type": "code",
   "execution_count": 31,
   "metadata": {},
   "outputs": [
    {
     "name": "stderr",
     "output_type": "stream",
     "text": [
      "D:\\Data_Science_With_Python\\Anaconda_installed\\lib\\site-packages\\IPython\\core\\interactiveshell.py:3063: DtypeWarning: Columns (48,49) have mixed types.Specify dtype option on import or set low_memory=False.\n",
      "  interactivity=interactivity, compiler=compiler, result=result)\n"
     ]
    }
   ],
   "source": [
    "#Import the Dataset\n",
    "df_NYC_dataset = pd.read_csv('C:\\\\Python_Dataset\\\\311_Service_Requests_from_2010_to_Present.csv')"
   ]
  },
  {
   "cell_type": "markdown",
   "metadata": {},
   "source": [
    "## EDA"
   ]
  },
  {
   "cell_type": "code",
   "execution_count": 32,
   "metadata": {},
   "outputs": [
    {
     "data": {
      "text/html": [
       "<div>\n",
       "<style scoped>\n",
       "    .dataframe tbody tr th:only-of-type {\n",
       "        vertical-align: middle;\n",
       "    }\n",
       "\n",
       "    .dataframe tbody tr th {\n",
       "        vertical-align: top;\n",
       "    }\n",
       "\n",
       "    .dataframe thead th {\n",
       "        text-align: right;\n",
       "    }\n",
       "</style>\n",
       "<table border=\"1\" class=\"dataframe\">\n",
       "  <thead>\n",
       "    <tr style=\"text-align: right;\">\n",
       "      <th></th>\n",
       "      <th>Unique Key</th>\n",
       "      <th>Created Date</th>\n",
       "      <th>Closed Date</th>\n",
       "      <th>Agency</th>\n",
       "      <th>Agency Name</th>\n",
       "      <th>Complaint Type</th>\n",
       "      <th>Descriptor</th>\n",
       "      <th>Location Type</th>\n",
       "      <th>Incident Zip</th>\n",
       "      <th>Incident Address</th>\n",
       "      <th>...</th>\n",
       "      <th>Bridge Highway Name</th>\n",
       "      <th>Bridge Highway Direction</th>\n",
       "      <th>Road Ramp</th>\n",
       "      <th>Bridge Highway Segment</th>\n",
       "      <th>Garage Lot Name</th>\n",
       "      <th>Ferry Direction</th>\n",
       "      <th>Ferry Terminal Name</th>\n",
       "      <th>Latitude</th>\n",
       "      <th>Longitude</th>\n",
       "      <th>Location</th>\n",
       "    </tr>\n",
       "  </thead>\n",
       "  <tbody>\n",
       "    <tr>\n",
       "      <th>0</th>\n",
       "      <td>32310363</td>\n",
       "      <td>12/31/2015 11:59:45 PM</td>\n",
       "      <td>01-01-2016 00:55</td>\n",
       "      <td>NYPD</td>\n",
       "      <td>New York City Police Department</td>\n",
       "      <td>Noise - Street/Sidewalk</td>\n",
       "      <td>Loud Music/Party</td>\n",
       "      <td>Street/Sidewalk</td>\n",
       "      <td>10034.0</td>\n",
       "      <td>71 VERMILYEA AVENUE</td>\n",
       "      <td>...</td>\n",
       "      <td>NaN</td>\n",
       "      <td>NaN</td>\n",
       "      <td>NaN</td>\n",
       "      <td>NaN</td>\n",
       "      <td>NaN</td>\n",
       "      <td>NaN</td>\n",
       "      <td>NaN</td>\n",
       "      <td>40.865682</td>\n",
       "      <td>-73.923501</td>\n",
       "      <td>(40.86568153633767, -73.92350095571744)</td>\n",
       "    </tr>\n",
       "    <tr>\n",
       "      <th>1</th>\n",
       "      <td>32309934</td>\n",
       "      <td>12/31/2015 11:59:44 PM</td>\n",
       "      <td>01-01-2016 01:26</td>\n",
       "      <td>NYPD</td>\n",
       "      <td>New York City Police Department</td>\n",
       "      <td>Blocked Driveway</td>\n",
       "      <td>No Access</td>\n",
       "      <td>Street/Sidewalk</td>\n",
       "      <td>11105.0</td>\n",
       "      <td>27-07 23 AVENUE</td>\n",
       "      <td>...</td>\n",
       "      <td>NaN</td>\n",
       "      <td>NaN</td>\n",
       "      <td>NaN</td>\n",
       "      <td>NaN</td>\n",
       "      <td>NaN</td>\n",
       "      <td>NaN</td>\n",
       "      <td>NaN</td>\n",
       "      <td>40.775945</td>\n",
       "      <td>-73.915094</td>\n",
       "      <td>(40.775945312321085, -73.91509393898605)</td>\n",
       "    </tr>\n",
       "    <tr>\n",
       "      <th>2</th>\n",
       "      <td>32309159</td>\n",
       "      <td>12/31/2015 11:59:29 PM</td>\n",
       "      <td>01-01-2016 04:51</td>\n",
       "      <td>NYPD</td>\n",
       "      <td>New York City Police Department</td>\n",
       "      <td>Blocked Driveway</td>\n",
       "      <td>No Access</td>\n",
       "      <td>Street/Sidewalk</td>\n",
       "      <td>10458.0</td>\n",
       "      <td>2897 VALENTINE AVENUE</td>\n",
       "      <td>...</td>\n",
       "      <td>NaN</td>\n",
       "      <td>NaN</td>\n",
       "      <td>NaN</td>\n",
       "      <td>NaN</td>\n",
       "      <td>NaN</td>\n",
       "      <td>NaN</td>\n",
       "      <td>NaN</td>\n",
       "      <td>40.870325</td>\n",
       "      <td>-73.888525</td>\n",
       "      <td>(40.870324522111424, -73.88852464418646)</td>\n",
       "    </tr>\n",
       "  </tbody>\n",
       "</table>\n",
       "<p>3 rows × 53 columns</p>\n",
       "</div>"
      ],
      "text/plain": [
       "   Unique Key            Created Date       Closed Date Agency  \\\n",
       "0    32310363  12/31/2015 11:59:45 PM  01-01-2016 00:55   NYPD   \n",
       "1    32309934  12/31/2015 11:59:44 PM  01-01-2016 01:26   NYPD   \n",
       "2    32309159  12/31/2015 11:59:29 PM  01-01-2016 04:51   NYPD   \n",
       "\n",
       "                       Agency Name           Complaint Type        Descriptor  \\\n",
       "0  New York City Police Department  Noise - Street/Sidewalk  Loud Music/Party   \n",
       "1  New York City Police Department         Blocked Driveway         No Access   \n",
       "2  New York City Police Department         Blocked Driveway         No Access   \n",
       "\n",
       "     Location Type  Incident Zip       Incident Address  ...  \\\n",
       "0  Street/Sidewalk       10034.0    71 VERMILYEA AVENUE  ...   \n",
       "1  Street/Sidewalk       11105.0        27-07 23 AVENUE  ...   \n",
       "2  Street/Sidewalk       10458.0  2897 VALENTINE AVENUE  ...   \n",
       "\n",
       "  Bridge Highway Name Bridge Highway Direction Road Ramp  \\\n",
       "0                 NaN                      NaN       NaN   \n",
       "1                 NaN                      NaN       NaN   \n",
       "2                 NaN                      NaN       NaN   \n",
       "\n",
       "  Bridge Highway Segment Garage Lot Name Ferry Direction Ferry Terminal Name  \\\n",
       "0                    NaN             NaN             NaN                 NaN   \n",
       "1                    NaN             NaN             NaN                 NaN   \n",
       "2                    NaN             NaN             NaN                 NaN   \n",
       "\n",
       "    Latitude  Longitude                                  Location  \n",
       "0  40.865682 -73.923501   (40.86568153633767, -73.92350095571744)  \n",
       "1  40.775945 -73.915094  (40.775945312321085, -73.91509393898605)  \n",
       "2  40.870325 -73.888525  (40.870324522111424, -73.88852464418646)  \n",
       "\n",
       "[3 rows x 53 columns]"
      ]
     },
     "execution_count": 32,
     "metadata": {},
     "output_type": "execute_result"
    }
   ],
   "source": [
    "#View the Dataset\n",
    "df_NYC_dataset.head(3)"
   ]
  },
  {
   "cell_type": "code",
   "execution_count": 33,
   "metadata": {},
   "outputs": [
    {
     "data": {
      "text/html": [
       "<div>\n",
       "<style scoped>\n",
       "    .dataframe tbody tr th:only-of-type {\n",
       "        vertical-align: middle;\n",
       "    }\n",
       "\n",
       "    .dataframe tbody tr th {\n",
       "        vertical-align: top;\n",
       "    }\n",
       "\n",
       "    .dataframe thead th {\n",
       "        text-align: right;\n",
       "    }\n",
       "</style>\n",
       "<table border=\"1\" class=\"dataframe\">\n",
       "  <thead>\n",
       "    <tr style=\"text-align: right;\">\n",
       "      <th></th>\n",
       "      <th>Unique Key</th>\n",
       "      <th>Incident Zip</th>\n",
       "      <th>X Coordinate (State Plane)</th>\n",
       "      <th>Y Coordinate (State Plane)</th>\n",
       "      <th>School or Citywide Complaint</th>\n",
       "      <th>Vehicle Type</th>\n",
       "      <th>Taxi Company Borough</th>\n",
       "      <th>Taxi Pick Up Location</th>\n",
       "      <th>Garage Lot Name</th>\n",
       "      <th>Latitude</th>\n",
       "      <th>Longitude</th>\n",
       "    </tr>\n",
       "  </thead>\n",
       "  <tbody>\n",
       "    <tr>\n",
       "      <th>count</th>\n",
       "      <td>3.006980e+05</td>\n",
       "      <td>298083.000000</td>\n",
       "      <td>2.971580e+05</td>\n",
       "      <td>297158.000000</td>\n",
       "      <td>0.0</td>\n",
       "      <td>0.0</td>\n",
       "      <td>0.0</td>\n",
       "      <td>0.0</td>\n",
       "      <td>0.0</td>\n",
       "      <td>297158.000000</td>\n",
       "      <td>297158.000000</td>\n",
       "    </tr>\n",
       "    <tr>\n",
       "      <th>mean</th>\n",
       "      <td>3.130054e+07</td>\n",
       "      <td>10848.888645</td>\n",
       "      <td>1.004854e+06</td>\n",
       "      <td>203754.534416</td>\n",
       "      <td>NaN</td>\n",
       "      <td>NaN</td>\n",
       "      <td>NaN</td>\n",
       "      <td>NaN</td>\n",
       "      <td>NaN</td>\n",
       "      <td>40.725885</td>\n",
       "      <td>-73.925630</td>\n",
       "    </tr>\n",
       "    <tr>\n",
       "      <th>std</th>\n",
       "      <td>5.738547e+05</td>\n",
       "      <td>583.182081</td>\n",
       "      <td>2.175338e+04</td>\n",
       "      <td>29880.183529</td>\n",
       "      <td>NaN</td>\n",
       "      <td>NaN</td>\n",
       "      <td>NaN</td>\n",
       "      <td>NaN</td>\n",
       "      <td>NaN</td>\n",
       "      <td>0.082012</td>\n",
       "      <td>0.078454</td>\n",
       "    </tr>\n",
       "    <tr>\n",
       "      <th>min</th>\n",
       "      <td>3.027948e+07</td>\n",
       "      <td>83.000000</td>\n",
       "      <td>9.133570e+05</td>\n",
       "      <td>121219.000000</td>\n",
       "      <td>NaN</td>\n",
       "      <td>NaN</td>\n",
       "      <td>NaN</td>\n",
       "      <td>NaN</td>\n",
       "      <td>NaN</td>\n",
       "      <td>40.499135</td>\n",
       "      <td>-74.254937</td>\n",
       "    </tr>\n",
       "    <tr>\n",
       "      <th>25%</th>\n",
       "      <td>3.080118e+07</td>\n",
       "      <td>10310.000000</td>\n",
       "      <td>9.919752e+05</td>\n",
       "      <td>183343.000000</td>\n",
       "      <td>NaN</td>\n",
       "      <td>NaN</td>\n",
       "      <td>NaN</td>\n",
       "      <td>NaN</td>\n",
       "      <td>NaN</td>\n",
       "      <td>40.669796</td>\n",
       "      <td>-73.972142</td>\n",
       "    </tr>\n",
       "    <tr>\n",
       "      <th>50%</th>\n",
       "      <td>3.130436e+07</td>\n",
       "      <td>11208.000000</td>\n",
       "      <td>1.003158e+06</td>\n",
       "      <td>201110.500000</td>\n",
       "      <td>NaN</td>\n",
       "      <td>NaN</td>\n",
       "      <td>NaN</td>\n",
       "      <td>NaN</td>\n",
       "      <td>NaN</td>\n",
       "      <td>40.718661</td>\n",
       "      <td>-73.931781</td>\n",
       "    </tr>\n",
       "    <tr>\n",
       "      <th>75%</th>\n",
       "      <td>3.178446e+07</td>\n",
       "      <td>11238.000000</td>\n",
       "      <td>1.018372e+06</td>\n",
       "      <td>224125.250000</td>\n",
       "      <td>NaN</td>\n",
       "      <td>NaN</td>\n",
       "      <td>NaN</td>\n",
       "      <td>NaN</td>\n",
       "      <td>NaN</td>\n",
       "      <td>40.781840</td>\n",
       "      <td>-73.876805</td>\n",
       "    </tr>\n",
       "    <tr>\n",
       "      <th>max</th>\n",
       "      <td>3.231065e+07</td>\n",
       "      <td>11697.000000</td>\n",
       "      <td>1.067173e+06</td>\n",
       "      <td>271876.000000</td>\n",
       "      <td>NaN</td>\n",
       "      <td>NaN</td>\n",
       "      <td>NaN</td>\n",
       "      <td>NaN</td>\n",
       "      <td>NaN</td>\n",
       "      <td>40.912869</td>\n",
       "      <td>-73.700760</td>\n",
       "    </tr>\n",
       "  </tbody>\n",
       "</table>\n",
       "</div>"
      ],
      "text/plain": [
       "         Unique Key   Incident Zip  X Coordinate (State Plane)  \\\n",
       "count  3.006980e+05  298083.000000                2.971580e+05   \n",
       "mean   3.130054e+07   10848.888645                1.004854e+06   \n",
       "std    5.738547e+05     583.182081                2.175338e+04   \n",
       "min    3.027948e+07      83.000000                9.133570e+05   \n",
       "25%    3.080118e+07   10310.000000                9.919752e+05   \n",
       "50%    3.130436e+07   11208.000000                1.003158e+06   \n",
       "75%    3.178446e+07   11238.000000                1.018372e+06   \n",
       "max    3.231065e+07   11697.000000                1.067173e+06   \n",
       "\n",
       "       Y Coordinate (State Plane)  School or Citywide Complaint  Vehicle Type  \\\n",
       "count               297158.000000                           0.0           0.0   \n",
       "mean                203754.534416                           NaN           NaN   \n",
       "std                  29880.183529                           NaN           NaN   \n",
       "min                 121219.000000                           NaN           NaN   \n",
       "25%                 183343.000000                           NaN           NaN   \n",
       "50%                 201110.500000                           NaN           NaN   \n",
       "75%                 224125.250000                           NaN           NaN   \n",
       "max                 271876.000000                           NaN           NaN   \n",
       "\n",
       "       Taxi Company Borough  Taxi Pick Up Location  Garage Lot Name  \\\n",
       "count                   0.0                    0.0              0.0   \n",
       "mean                    NaN                    NaN              NaN   \n",
       "std                     NaN                    NaN              NaN   \n",
       "min                     NaN                    NaN              NaN   \n",
       "25%                     NaN                    NaN              NaN   \n",
       "50%                     NaN                    NaN              NaN   \n",
       "75%                     NaN                    NaN              NaN   \n",
       "max                     NaN                    NaN              NaN   \n",
       "\n",
       "            Latitude      Longitude  \n",
       "count  297158.000000  297158.000000  \n",
       "mean       40.725885     -73.925630  \n",
       "std         0.082012       0.078454  \n",
       "min        40.499135     -74.254937  \n",
       "25%        40.669796     -73.972142  \n",
       "50%        40.718661     -73.931781  \n",
       "75%        40.781840     -73.876805  \n",
       "max        40.912869     -73.700760  "
      ]
     },
     "execution_count": 33,
     "metadata": {},
     "output_type": "execute_result"
    }
   ],
   "source": [
    "#View the content of the data\n",
    "df_NYC_dataset.describe()"
   ]
  },
  {
   "cell_type": "code",
   "execution_count": 34,
   "metadata": {},
   "outputs": [
    {
     "data": {
      "text/plain": [
       "Unique Key                        300698\n",
       "Created Date                      300698\n",
       "Closed Date                       298534\n",
       "Agency                            300698\n",
       "Agency Name                       300698\n",
       "Complaint Type                    300698\n",
       "Descriptor                        294784\n",
       "Location Type                     300567\n",
       "Incident Zip                      298083\n",
       "Incident Address                  256288\n",
       "Street Name                       256288\n",
       "Cross Street 1                    251419\n",
       "Cross Street 2                    250919\n",
       "Intersection Street 1              43858\n",
       "Intersection Street 2              43362\n",
       "Address Type                      297883\n",
       "City                              298084\n",
       "Landmark                             349\n",
       "Facility Type                     298527\n",
       "Status                            300698\n",
       "Due Date                          300695\n",
       "Resolution Description            300698\n",
       "Resolution Action Updated Date    298511\n",
       "Community Board                   300698\n",
       "Borough                           300698\n",
       "X Coordinate (State Plane)        297158\n",
       "Y Coordinate (State Plane)        297158\n",
       "Park Facility Name                300698\n",
       "Park Borough                      300698\n",
       "School Name                       300698\n",
       "School Number                     300698\n",
       "School Region                     300697\n",
       "School Code                       300697\n",
       "School Phone Number               300698\n",
       "School Address                    300698\n",
       "School City                       300698\n",
       "School State                      300698\n",
       "School Zip                        300697\n",
       "School Not Found                  300698\n",
       "School or Citywide Complaint           0\n",
       "Vehicle Type                           0\n",
       "Taxi Company Borough                   0\n",
       "Taxi Pick Up Location                  0\n",
       "Bridge Highway Name                  243\n",
       "Bridge Highway Direction             243\n",
       "Road Ramp                            213\n",
       "Bridge Highway Segment               213\n",
       "Garage Lot Name                        0\n",
       "Ferry Direction                        1\n",
       "Ferry Terminal Name                    2\n",
       "Latitude                          297158\n",
       "Longitude                         297158\n",
       "Location                          297158\n",
       "dtype: int64"
      ]
     },
     "execution_count": 34,
     "metadata": {},
     "output_type": "execute_result"
    }
   ],
   "source": [
    "#Count number of records for each attribute\n",
    "df_NYC_dataset.count()"
   ]
  },
  {
   "cell_type": "code",
   "execution_count": 35,
   "metadata": {},
   "outputs": [
    {
     "data": {
      "text/plain": [
       "(300698, 53)"
      ]
     },
     "execution_count": 35,
     "metadata": {},
     "output_type": "execute_result"
    }
   ],
   "source": [
    "df_NYC_dataset.shape"
   ]
  },
  {
   "cell_type": "code",
   "execution_count": 36,
   "metadata": {},
   "outputs": [
    {
     "data": {
      "text/plain": [
       "15936994"
      ]
     },
     "execution_count": 36,
     "metadata": {},
     "output_type": "execute_result"
    }
   ],
   "source": [
    "df_NYC_dataset.size"
   ]
  },
  {
   "cell_type": "code",
   "execution_count": 37,
   "metadata": {},
   "outputs": [
    {
     "name": "stdout",
     "output_type": "stream",
     "text": [
      "<class 'pandas.core.frame.DataFrame'>\n",
      "RangeIndex: 300698 entries, 0 to 300697\n",
      "Data columns (total 53 columns):\n",
      " #   Column                          Non-Null Count   Dtype  \n",
      "---  ------                          --------------   -----  \n",
      " 0   Unique Key                      300698 non-null  int64  \n",
      " 1   Created Date                    300698 non-null  object \n",
      " 2   Closed Date                     298534 non-null  object \n",
      " 3   Agency                          300698 non-null  object \n",
      " 4   Agency Name                     300698 non-null  object \n",
      " 5   Complaint Type                  300698 non-null  object \n",
      " 6   Descriptor                      294784 non-null  object \n",
      " 7   Location Type                   300567 non-null  object \n",
      " 8   Incident Zip                    298083 non-null  float64\n",
      " 9   Incident Address                256288 non-null  object \n",
      " 10  Street Name                     256288 non-null  object \n",
      " 11  Cross Street 1                  251419 non-null  object \n",
      " 12  Cross Street 2                  250919 non-null  object \n",
      " 13  Intersection Street 1           43858 non-null   object \n",
      " 14  Intersection Street 2           43362 non-null   object \n",
      " 15  Address Type                    297883 non-null  object \n",
      " 16  City                            298084 non-null  object \n",
      " 17  Landmark                        349 non-null     object \n",
      " 18  Facility Type                   298527 non-null  object \n",
      " 19  Status                          300698 non-null  object \n",
      " 20  Due Date                        300695 non-null  object \n",
      " 21  Resolution Description          300698 non-null  object \n",
      " 22  Resolution Action Updated Date  298511 non-null  object \n",
      " 23  Community Board                 300698 non-null  object \n",
      " 24  Borough                         300698 non-null  object \n",
      " 25  X Coordinate (State Plane)      297158 non-null  float64\n",
      " 26  Y Coordinate (State Plane)      297158 non-null  float64\n",
      " 27  Park Facility Name              300698 non-null  object \n",
      " 28  Park Borough                    300698 non-null  object \n",
      " 29  School Name                     300698 non-null  object \n",
      " 30  School Number                   300698 non-null  object \n",
      " 31  School Region                   300697 non-null  object \n",
      " 32  School Code                     300697 non-null  object \n",
      " 33  School Phone Number             300698 non-null  object \n",
      " 34  School Address                  300698 non-null  object \n",
      " 35  School City                     300698 non-null  object \n",
      " 36  School State                    300698 non-null  object \n",
      " 37  School Zip                      300697 non-null  object \n",
      " 38  School Not Found                300698 non-null  object \n",
      " 39  School or Citywide Complaint    0 non-null       float64\n",
      " 40  Vehicle Type                    0 non-null       float64\n",
      " 41  Taxi Company Borough            0 non-null       float64\n",
      " 42  Taxi Pick Up Location           0 non-null       float64\n",
      " 43  Bridge Highway Name             243 non-null     object \n",
      " 44  Bridge Highway Direction        243 non-null     object \n",
      " 45  Road Ramp                       213 non-null     object \n",
      " 46  Bridge Highway Segment          213 non-null     object \n",
      " 47  Garage Lot Name                 0 non-null       float64\n",
      " 48  Ferry Direction                 1 non-null       object \n",
      " 49  Ferry Terminal Name             2 non-null       object \n",
      " 50  Latitude                        297158 non-null  float64\n",
      " 51  Longitude                       297158 non-null  float64\n",
      " 52  Location                        297158 non-null  object \n",
      "dtypes: float64(10), int64(1), object(42)\n",
      "memory usage: 121.6+ MB\n"
     ]
    }
   ],
   "source": [
    "df_NYC_dataset.info()"
   ]
  },
  {
   "cell_type": "code",
   "execution_count": 38,
   "metadata": {},
   "outputs": [
    {
     "data": {
      "text/plain": [
       "Index(['Unique Key', 'Created Date', 'Closed Date', 'Agency', 'Agency Name',\n",
       "       'Complaint Type', 'Descriptor', 'Location Type', 'Incident Zip',\n",
       "       'Incident Address', 'Street Name', 'Cross Street 1', 'Cross Street 2',\n",
       "       'Intersection Street 1', 'Intersection Street 2', 'Address Type',\n",
       "       'City', 'Landmark', 'Facility Type', 'Status', 'Due Date',\n",
       "       'Resolution Description', 'Resolution Action Updated Date',\n",
       "       'Community Board', 'Borough', 'X Coordinate (State Plane)',\n",
       "       'Y Coordinate (State Plane)', 'Park Facility Name', 'Park Borough',\n",
       "       'School Name', 'School Number', 'School Region', 'School Code',\n",
       "       'School Phone Number', 'School Address', 'School City', 'School State',\n",
       "       'School Zip', 'School Not Found', 'School or Citywide Complaint',\n",
       "       'Vehicle Type', 'Taxi Company Borough', 'Taxi Pick Up Location',\n",
       "       'Bridge Highway Name', 'Bridge Highway Direction', 'Road Ramp',\n",
       "       'Bridge Highway Segment', 'Garage Lot Name', 'Ferry Direction',\n",
       "       'Ferry Terminal Name', 'Latitude', 'Longitude', 'Location'],\n",
       "      dtype='object')"
      ]
     },
     "execution_count": 38,
     "metadata": {},
     "output_type": "execute_result"
    }
   ],
   "source": [
    "df_NYC_dataset.columns"
   ]
  },
  {
   "cell_type": "code",
   "execution_count": 39,
   "metadata": {},
   "outputs": [
    {
     "data": {
      "text/plain": [
       "array(['NEW YORK', 'ASTORIA', 'BRONX', 'ELMHURST', 'BROOKLYN',\n",
       "       'KEW GARDENS', 'JACKSON HEIGHTS', 'MIDDLE VILLAGE', 'REGO PARK',\n",
       "       'SAINT ALBANS', 'JAMAICA', 'SOUTH RICHMOND HILL', nan, 'RIDGEWOOD',\n",
       "       'HOWARD BEACH', 'FOREST HILLS', 'STATEN ISLAND', 'OZONE PARK',\n",
       "       'RICHMOND HILL', 'WOODHAVEN', 'FLUSHING', 'CORONA',\n",
       "       'QUEENS VILLAGE', 'OAKLAND GARDENS', 'HOLLIS', 'MASPETH',\n",
       "       'EAST ELMHURST', 'SOUTH OZONE PARK', 'WOODSIDE', 'FRESH MEADOWS',\n",
       "       'LONG ISLAND CITY', 'ROCKAWAY PARK', 'SPRINGFIELD GARDENS',\n",
       "       'COLLEGE POINT', 'BAYSIDE', 'GLEN OAKS', 'FAR ROCKAWAY',\n",
       "       'BELLEROSE', 'LITTLE NECK', 'CAMBRIA HEIGHTS', 'ROSEDALE',\n",
       "       'SUNNYSIDE', 'WHITESTONE', 'ARVERNE', 'FLORAL PARK',\n",
       "       'NEW HYDE PARK', 'CENTRAL PARK', 'BREEZY POINT', 'QUEENS',\n",
       "       'Astoria', 'Long Island City', 'Woodside', 'East Elmhurst',\n",
       "       'Howard Beach'], dtype=object)"
      ]
     },
     "execution_count": 39,
     "metadata": {},
     "output_type": "execute_result"
    }
   ],
   "source": [
    "#Get Unique City name\n",
    "df_NYC_dataset['City'].unique()"
   ]
  },
  {
   "cell_type": "code",
   "execution_count": 40,
   "metadata": {},
   "outputs": [
    {
     "data": {
      "text/plain": [
       "Unique Key                          int64\n",
       "Created Date                       object\n",
       "Closed Date                        object\n",
       "Agency                             object\n",
       "Agency Name                        object\n",
       "Complaint Type                     object\n",
       "Descriptor                         object\n",
       "Location Type                      object\n",
       "Incident Zip                      float64\n",
       "Incident Address                   object\n",
       "Street Name                        object\n",
       "Cross Street 1                     object\n",
       "Cross Street 2                     object\n",
       "Intersection Street 1              object\n",
       "Intersection Street 2              object\n",
       "Address Type                       object\n",
       "City                               object\n",
       "Landmark                           object\n",
       "Facility Type                      object\n",
       "Status                             object\n",
       "Due Date                           object\n",
       "Resolution Description             object\n",
       "Resolution Action Updated Date     object\n",
       "Community Board                    object\n",
       "Borough                            object\n",
       "X Coordinate (State Plane)        float64\n",
       "Y Coordinate (State Plane)        float64\n",
       "Park Facility Name                 object\n",
       "Park Borough                       object\n",
       "School Name                        object\n",
       "School Number                      object\n",
       "School Region                      object\n",
       "School Code                        object\n",
       "School Phone Number                object\n",
       "School Address                     object\n",
       "School City                        object\n",
       "School State                       object\n",
       "School Zip                         object\n",
       "School Not Found                   object\n",
       "School or Citywide Complaint      float64\n",
       "Vehicle Type                      float64\n",
       "Taxi Company Borough              float64\n",
       "Taxi Pick Up Location             float64\n",
       "Bridge Highway Name                object\n",
       "Bridge Highway Direction           object\n",
       "Road Ramp                          object\n",
       "Bridge Highway Segment             object\n",
       "Garage Lot Name                   float64\n",
       "Ferry Direction                    object\n",
       "Ferry Terminal Name                object\n",
       "Latitude                          float64\n",
       "Longitude                         float64\n",
       "Location                           object\n",
       "dtype: object"
      ]
     },
     "execution_count": 40,
     "metadata": {},
     "output_type": "execute_result"
    }
   ],
   "source": [
    "#Get unique Datatype in dataset\n",
    "df_NYC_dataset.dtypes"
   ]
  },
  {
   "cell_type": "code",
   "execution_count": 41,
   "metadata": {},
   "outputs": [
    {
     "data": {
      "text/plain": [
       "City\n",
       "BROOKLYN               98307\n",
       "NEW YORK               65994\n",
       "BRONX                  40702\n",
       "STATEN ISLAND          12343\n",
       "JAMAICA                 7296\n",
       "ASTORIA                 6330\n",
       "FLUSHING                5971\n",
       "RIDGEWOOD               5163\n",
       "CORONA                  4295\n",
       "WOODSIDE                3544\n",
       "SOUTH RICHMOND HILL     2774\n",
       "OZONE PARK              2755\n",
       "EAST ELMHURST           2734\n",
       "ELMHURST                2673\n",
       "WOODHAVEN               2464\n",
       "MASPETH                 2462\n",
       "LONG ISLAND CITY        2437\n",
       "SOUTH OZONE PARK        2173\n",
       "RICHMOND HILL           1904\n",
       "FRESH MEADOWS           1899\n",
       "QUEENS VILLAGE          1814\n",
       "MIDDLE VILLAGE          1765\n",
       "JACKSON HEIGHTS         1689\n",
       "FOREST HILLS            1688\n",
       "REGO PARK               1486\n",
       "BAYSIDE                 1221\n",
       "COLLEGE POINT           1220\n",
       "FAR ROCKAWAY            1179\n",
       "WHITESTONE              1098\n",
       "HOLLIS                  1012\n",
       "HOWARD BEACH             931\n",
       "ROSEDALE                 922\n",
       "SPRINGFIELD GARDENS      883\n",
       "SAINT ALBANS             834\n",
       "KEW GARDENS              771\n",
       "ROCKAWAY PARK            745\n",
       "SUNNYSIDE                723\n",
       "Astoria                  717\n",
       "LITTLE NECK              559\n",
       "OAKLAND GARDENS          551\n",
       "CAMBRIA HEIGHTS          477\n",
       "BELLEROSE                375\n",
       "GLEN OAKS                306\n",
       "ARVERNE                  220\n",
       "FLORAL PARK              152\n",
       "Long Island City         134\n",
       "Woodside                 120\n",
       "NEW HYDE PARK             98\n",
       "CENTRAL PARK              97\n",
       "QUEENS                    32\n",
       "BREEZY POINT              30\n",
       "East Elmhurst             14\n",
       "Howard Beach               1\n",
       "dtype: int64"
      ]
     },
     "execution_count": 41,
     "metadata": {},
     "output_type": "execute_result"
    }
   ],
   "source": [
    "#Find you major city names with maximum number of incidents\n",
    "df_NYC_dataset.groupby('City').size().sort_values(ascending=False)"
   ]
  },
  {
   "cell_type": "code",
   "execution_count": 42,
   "metadata": {},
   "outputs": [
    {
     "data": {
      "text/plain": [
       "City      Complaint Type         \n",
       "ARVERNE   Animal Abuse                38\n",
       "          Blocked Driveway            35\n",
       "          Derelict Vehicle            27\n",
       "          Disorderly Youth             2\n",
       "          Drinking                     1\n",
       "                                    ... \n",
       "Woodside  Blocked Driveway            11\n",
       "          Derelict Vehicle             2\n",
       "          Illegal Parking            100\n",
       "          Noise - Commercial           2\n",
       "          Noise - Street/Sidewalk      5\n",
       "Length: 764, dtype: int64"
      ]
     },
     "execution_count": 42,
     "metadata": {},
     "output_type": "execute_result"
    }
   ],
   "source": [
    "df_NYC_dataset.groupby(['City','Complaint Type']).size()"
   ]
  },
  {
   "cell_type": "markdown",
   "metadata": {},
   "source": [
    "Find Major complain types"
   ]
  },
  {
   "cell_type": "code",
   "execution_count": 43,
   "metadata": {},
   "outputs": [
    {
     "data": {
      "text/plain": [
       "Blocked Driveway           77044\n",
       "Illegal Parking            75361\n",
       "Noise - Street/Sidewalk    48612\n",
       "Noise - Commercial         35577\n",
       "Derelict Vehicle           17718\n",
       "Noise - Vehicle            17083\n",
       "Animal Abuse                7778\n",
       "Traffic                     4498\n",
       "Homeless Encampment         4416\n",
       "Noise - Park                4042\n",
       "Name: Complaint Type, dtype: int64"
      ]
     },
     "execution_count": 43,
     "metadata": {},
     "output_type": "execute_result"
    }
   ],
   "source": [
    "#complain type Value Count \n",
    "Complaint_Count= df_NYC_dataset['Complaint Type'].value_counts().head(10)\n",
    "Complaint_Count"
   ]
  },
  {
   "cell_type": "markdown",
   "metadata": {},
   "source": [
    "## Provide major insights/patterns that you can offer in a visual format (graphs or tables); at least 4 major conclusions that you can come up with after generic data mining"
   ]
  },
  {
   "cell_type": "markdown",
   "metadata": {},
   "source": [
    "# Data Visualization"
   ]
  },
  {
   "cell_type": "code",
   "execution_count": 44,
   "metadata": {},
   "outputs": [
    {
     "data": {
      "text/plain": [
       "<matplotlib.axes._subplots.AxesSubplot at 0x239a7aedd88>"
      ]
     },
     "execution_count": 44,
     "metadata": {},
     "output_type": "execute_result"
    },
    {
     "data": {
      "image/png": "[encoded data removed]",
      "text/plain": [
       "<Figure size 864x432 with 1 Axes>"
      ]
     },
     "metadata": {
      "needs_background": "light"
     },
     "output_type": "display_data"
    }
   ],
   "source": [
    "#A bar plot to show incidents calls per city\n",
    "df_NYC_dataset.groupby('City').size().plot(kind= \"bar\",figsize=(12,6), title= (\"Incidents calls per city\"))"
   ]
  },
  {
   "cell_type": "code",
   "execution_count": 45,
   "metadata": {},
   "outputs": [
    {
     "data": {
      "text/plain": [
       "<matplotlib.axes._subplots.AxesSubplot at 0x2398e9ad048>"
      ]
     },
     "execution_count": 45,
     "metadata": {},
     "output_type": "execute_result"
    },
    {
     "data": {
      "image/png": "[encoded data removed]",
      "text/plain": [
       "<Figure size 432x288 with 1 Axes>"
      ]
     },
     "metadata": {
      "needs_background": "light"
     },
     "output_type": "display_data"
    }
   ],
   "source": [
    "#Visualization the count of maximum complain type\n",
    "#A bar plot graph of count vs. complain type\n",
    "Complaint_Count.plot(kind= \"bar\")"
   ]
  },
  {
   "cell_type": "code",
   "execution_count": 46,
   "metadata": {},
   "outputs": [
    {
     "data": {
      "text/plain": [
       "<matplotlib.axes._subplots.AxesSubplot at 0x239891fd288>"
      ]
     },
     "execution_count": 46,
     "metadata": {},
     "output_type": "execute_result"
    },
    {
     "data": {
      "image/png": "[encoded data removed]",
      "text/plain": [
       "<Figure size 432x288 with 1 Axes>"
      ]
     },
     "metadata": {},
     "output_type": "display_data"
    }
   ],
   "source": [
    "#Displaying the major complain type and their count using pie \n",
    "Complaint_Count.plot(kind= \"pie\", autopct = '%.1f%%')"
   ]
  },
  {
   "cell_type": "markdown",
   "metadata": {},
   "source": [
    "Read or convert the columns ‘Created Date’ and Closed Date’ to datetime datatype and create a new column ‘Request_Closing_Time’ as the time elapsed between request creation and request closing. (Hint: Explore the package/module datetime)"
   ]
  },
  {
   "cell_type": "code",
   "execution_count": 47,
   "metadata": {},
   "outputs": [
    {
     "data": {
      "text/plain": [
       "0         12/31/2015 11:59:45 PM\n",
       "1         12/31/2015 11:59:44 PM\n",
       "2         12/31/2015 11:59:29 PM\n",
       "3         12/31/2015 11:57:46 PM\n",
       "4         12/31/2015 11:56:58 PM\n",
       "                   ...          \n",
       "300693    03/29/2015 12:33:41 AM\n",
       "300694    03/29/2015 12:33:28 AM\n",
       "300695    03/29/2015 12:33:03 AM\n",
       "300696    03/29/2015 12:33:02 AM\n",
       "300697    03/29/2015 12:33:01 AM\n",
       "Name: Created Date, Length: 300698, dtype: object"
      ]
     },
     "execution_count": 47,
     "metadata": {},
     "output_type": "execute_result"
    }
   ],
   "source": [
    "#View Create Date and found dtype is object.\n",
    "df_NYC_dataset['Created Date']"
   ]
  },
  {
   "cell_type": "code",
   "execution_count": 50,
   "metadata": {},
   "outputs": [],
   "source": [
    "# Will check the dtype to Datatime\n",
    "df_NYC_dataset[['Created Date','Closed Date']] = df_NYC_dataset[['Created Date','Closed Date']].apply(pd.to_datetime)"
   ]
  },
  {
   "cell_type": "code",
   "execution_count": 51,
   "metadata": {},
   "outputs": [
    {
     "data": {
      "text/plain": [
       "0        2015-12-31 23:59:45\n",
       "1        2015-12-31 23:59:44\n",
       "2        2015-12-31 23:59:29\n",
       "3        2015-12-31 23:57:46\n",
       "4        2015-12-31 23:56:58\n",
       "                 ...        \n",
       "300693   2015-03-29 00:33:41\n",
       "300694   2015-03-29 00:33:28\n",
       "300695   2015-03-29 00:33:03\n",
       "300696   2015-03-29 00:33:02\n",
       "300697   2015-03-29 00:33:01\n",
       "Name: Created Date, Length: 300698, dtype: datetime64[ns]"
      ]
     },
     "execution_count": 51,
     "metadata": {},
     "output_type": "execute_result"
    }
   ],
   "source": [
    "#View created Date\n",
    "df_NYC_dataset['Created Date']"
   ]
  },
  {
   "cell_type": "code",
   "execution_count": 52,
   "metadata": {},
   "outputs": [
    {
     "name": "stdout",
     "output_type": "stream",
     "text": [
      "<class 'pandas.core.frame.DataFrame'>\n",
      "RangeIndex: 300698 entries, 0 to 300697\n",
      "Data columns (total 53 columns):\n",
      " #   Column                          Non-Null Count   Dtype         \n",
      "---  ------                          --------------   -----         \n",
      " 0   Unique Key                      300698 non-null  int64         \n",
      " 1   Created Date                    300698 non-null  datetime64[ns]\n",
      " 2   Closed Date                     298534 non-null  datetime64[ns]\n",
      " 3   Agency                          300698 non-null  object        \n",
      " 4   Agency Name                     300698 non-null  object        \n",
      " 5   Complaint Type                  300698 non-null  object        \n",
      " 6   Descriptor                      294784 non-null  object        \n",
      " 7   Location Type                   300567 non-null  object        \n",
      " 8   Incident Zip                    298083 non-null  float64       \n",
      " 9   Incident Address                256288 non-null  object        \n",
      " 10  Street Name                     256288 non-null  object        \n",
      " 11  Cross Street 1                  251419 non-null  object        \n",
      " 12  Cross Street 2                  250919 non-null  object        \n",
      " 13  Intersection Street 1           43858 non-null   object        \n",
      " 14  Intersection Street 2           43362 non-null   object        \n",
      " 15  Address Type                    297883 non-null  object        \n",
      " 16  City                            298084 non-null  object        \n",
      " 17  Landmark                        349 non-null     object        \n",
      " 18  Facility Type                   298527 non-null  object        \n",
      " 19  Status                          300698 non-null  object        \n",
      " 20  Due Date                        300695 non-null  object        \n",
      " 21  Resolution Description          300698 non-null  object        \n",
      " 22  Resolution Action Updated Date  298511 non-null  object        \n",
      " 23  Community Board                 300698 non-null  object        \n",
      " 24  Borough                         300698 non-null  object        \n",
      " 25  X Coordinate (State Plane)      297158 non-null  float64       \n",
      " 26  Y Coordinate (State Plane)      297158 non-null  float64       \n",
      " 27  Park Facility Name              300698 non-null  object        \n",
      " 28  Park Borough                    300698 non-null  object        \n",
      " 29  School Name                     300698 non-null  object        \n",
      " 30  School Number                   300698 non-null  object        \n",
      " 31  School Region                   300697 non-null  object        \n",
      " 32  School Code                     300697 non-null  object        \n",
      " 33  School Phone Number             300698 non-null  object        \n",
      " 34  School Address                  300698 non-null  object        \n",
      " 35  School City                     300698 non-null  object        \n",
      " 36  School State                    300698 non-null  object        \n",
      " 37  School Zip                      300697 non-null  object        \n",
      " 38  School Not Found                300698 non-null  object        \n",
      " 39  School or Citywide Complaint    0 non-null       float64       \n",
      " 40  Vehicle Type                    0 non-null       float64       \n",
      " 41  Taxi Company Borough            0 non-null       float64       \n",
      " 42  Taxi Pick Up Location           0 non-null       float64       \n",
      " 43  Bridge Highway Name             243 non-null     object        \n",
      " 44  Bridge Highway Direction        243 non-null     object        \n",
      " 45  Road Ramp                       213 non-null     object        \n",
      " 46  Bridge Highway Segment          213 non-null     object        \n",
      " 47  Garage Lot Name                 0 non-null       float64       \n",
      " 48  Ferry Direction                 1 non-null       object        \n",
      " 49  Ferry Terminal Name             2 non-null       object        \n",
      " 50  Latitude                        297158 non-null  float64       \n",
      " 51  Longitude                       297158 non-null  float64       \n",
      " 52  Location                        297158 non-null  object        \n",
      "dtypes: datetime64[ns](2), float64(10), int64(1), object(40)\n",
      "memory usage: 121.6+ MB\n"
     ]
    }
   ],
   "source": [
    "df_NYC_dataset.info()"
   ]
  },
  {
   "cell_type": "code",
   "execution_count": 55,
   "metadata": {},
   "outputs": [
    {
     "data": {
      "text/plain": [
       "Created Date       0\n",
       "Closed Date     2164\n",
       "dtype: int64"
      ]
     },
     "execution_count": 55,
     "metadata": {},
     "output_type": "execute_result"
    }
   ],
   "source": [
    "# Check the Null value count for both the DateTime columns\n",
    "df_NYC_dataset[['Created Date','Closed Date']].isna().sum()"
   ]
  },
  {
   "cell_type": "code",
   "execution_count": 59,
   "metadata": {},
   "outputs": [],
   "source": [
    "# Remove those records where the values of Closed_date is null\n",
    "# Now we will get the new NYC Dataset with less values\n",
    "df_NYC_dataset = df_NYC_dataset[pd.notnull(df_NYC_dataset['Closed Date'])]"
   ]
  },
  {
   "cell_type": "code",
   "execution_count": 60,
   "metadata": {},
   "outputs": [
    {
     "data": {
      "text/plain": [
       "Created Date    0\n",
       "Closed Date     0\n",
       "dtype: int64"
      ]
     },
     "execution_count": 60,
     "metadata": {},
     "output_type": "execute_result"
    }
   ],
   "source": [
    "# Again, check the Null value count for both the DateTime columns\n",
    "df_NYC_dataset[['Created Date','Closed Date']].isna().sum()"
   ]
  },
  {
   "cell_type": "markdown",
   "metadata": {},
   "source": [
    "Order the complaint types based on the average ‘Request_Closing_Time’, grouping them for different locations."
   ]
  },
  {
   "cell_type": "code",
   "execution_count": 61,
   "metadata": {},
   "outputs": [
    {
     "name": "stderr",
     "output_type": "stream",
     "text": [
      "D:\\Data_Science_With_Python\\Anaconda_installed\\lib\\site-packages\\ipykernel_launcher.py:1: SettingWithCopyWarning: \n",
      "A value is trying to be set on a copy of a slice from a DataFrame.\n",
      "Try using .loc[row_indexer,col_indexer] = value instead\n",
      "\n",
      "See the caveats in the documentation: https://pandas.pydata.org/pandas-docs/stable/user_guide/indexing.html#returning-a-view-versus-a-copy\n",
      "  \"\"\"Entry point for launching an IPython kernel.\n"
     ]
    }
   ],
   "source": [
    "# Time elapsed in closed and creation date\n",
    "df_NYC_dataset['Request Closing Time'] = df_NYC_dataset['Closed Date']- df_NYC_dataset['Created Date']"
   ]
  },
  {
   "cell_type": "code",
   "execution_count": 62,
   "metadata": {},
   "outputs": [
    {
     "data": {
      "text/html": [
       "<div>\n",
       "<style scoped>\n",
       "    .dataframe tbody tr th:only-of-type {\n",
       "        vertical-align: middle;\n",
       "    }\n",
       "\n",
       "    .dataframe tbody tr th {\n",
       "        vertical-align: top;\n",
       "    }\n",
       "\n",
       "    .dataframe thead th {\n",
       "        text-align: right;\n",
       "    }\n",
       "</style>\n",
       "<table border=\"1\" class=\"dataframe\">\n",
       "  <thead>\n",
       "    <tr style=\"text-align: right;\">\n",
       "      <th></th>\n",
       "      <th>Unique Key</th>\n",
       "      <th>Created Date</th>\n",
       "      <th>Closed Date</th>\n",
       "      <th>Agency</th>\n",
       "      <th>Agency Name</th>\n",
       "      <th>Complaint Type</th>\n",
       "      <th>Descriptor</th>\n",
       "      <th>Location Type</th>\n",
       "      <th>Incident Zip</th>\n",
       "      <th>Incident Address</th>\n",
       "      <th>...</th>\n",
       "      <th>Bridge Highway Direction</th>\n",
       "      <th>Road Ramp</th>\n",
       "      <th>Bridge Highway Segment</th>\n",
       "      <th>Garage Lot Name</th>\n",
       "      <th>Ferry Direction</th>\n",
       "      <th>Ferry Terminal Name</th>\n",
       "      <th>Latitude</th>\n",
       "      <th>Longitude</th>\n",
       "      <th>Location</th>\n",
       "      <th>Request Closing Time</th>\n",
       "    </tr>\n",
       "  </thead>\n",
       "  <tbody>\n",
       "    <tr>\n",
       "      <th>0</th>\n",
       "      <td>32310363</td>\n",
       "      <td>2015-12-31 23:59:45</td>\n",
       "      <td>2016-01-01 00:55:00</td>\n",
       "      <td>NYPD</td>\n",
       "      <td>New York City Police Department</td>\n",
       "      <td>Noise - Street/Sidewalk</td>\n",
       "      <td>Loud Music/Party</td>\n",
       "      <td>Street/Sidewalk</td>\n",
       "      <td>10034.0</td>\n",
       "      <td>71 VERMILYEA AVENUE</td>\n",
       "      <td>...</td>\n",
       "      <td>NaN</td>\n",
       "      <td>NaN</td>\n",
       "      <td>NaN</td>\n",
       "      <td>NaN</td>\n",
       "      <td>NaN</td>\n",
       "      <td>NaN</td>\n",
       "      <td>40.865682</td>\n",
       "      <td>-73.923501</td>\n",
       "      <td>(40.86568153633767, -73.92350095571744)</td>\n",
       "      <td>00:55:15</td>\n",
       "    </tr>\n",
       "    <tr>\n",
       "      <th>1</th>\n",
       "      <td>32309934</td>\n",
       "      <td>2015-12-31 23:59:44</td>\n",
       "      <td>2016-01-01 01:26:00</td>\n",
       "      <td>NYPD</td>\n",
       "      <td>New York City Police Department</td>\n",
       "      <td>Blocked Driveway</td>\n",
       "      <td>No Access</td>\n",
       "      <td>Street/Sidewalk</td>\n",
       "      <td>11105.0</td>\n",
       "      <td>27-07 23 AVENUE</td>\n",
       "      <td>...</td>\n",
       "      <td>NaN</td>\n",
       "      <td>NaN</td>\n",
       "      <td>NaN</td>\n",
       "      <td>NaN</td>\n",
       "      <td>NaN</td>\n",
       "      <td>NaN</td>\n",
       "      <td>40.775945</td>\n",
       "      <td>-73.915094</td>\n",
       "      <td>(40.775945312321085, -73.91509393898605)</td>\n",
       "      <td>01:26:16</td>\n",
       "    </tr>\n",
       "  </tbody>\n",
       "</table>\n",
       "<p>2 rows × 54 columns</p>\n",
       "</div>"
      ],
      "text/plain": [
       "   Unique Key        Created Date         Closed Date Agency  \\\n",
       "0    32310363 2015-12-31 23:59:45 2016-01-01 00:55:00   NYPD   \n",
       "1    32309934 2015-12-31 23:59:44 2016-01-01 01:26:00   NYPD   \n",
       "\n",
       "                       Agency Name           Complaint Type        Descriptor  \\\n",
       "0  New York City Police Department  Noise - Street/Sidewalk  Loud Music/Party   \n",
       "1  New York City Police Department         Blocked Driveway         No Access   \n",
       "\n",
       "     Location Type  Incident Zip     Incident Address  ...  \\\n",
       "0  Street/Sidewalk       10034.0  71 VERMILYEA AVENUE  ...   \n",
       "1  Street/Sidewalk       11105.0      27-07 23 AVENUE  ...   \n",
       "\n",
       "  Bridge Highway Direction Road Ramp Bridge Highway Segment Garage Lot Name  \\\n",
       "0                      NaN       NaN                    NaN             NaN   \n",
       "1                      NaN       NaN                    NaN             NaN   \n",
       "\n",
       "  Ferry Direction Ferry Terminal Name   Latitude  Longitude  \\\n",
       "0             NaN                 NaN  40.865682 -73.923501   \n",
       "1             NaN                 NaN  40.775945 -73.915094   \n",
       "\n",
       "                                   Location Request Closing Time  \n",
       "0   (40.86568153633767, -73.92350095571744)             00:55:15  \n",
       "1  (40.775945312321085, -73.91509393898605)             01:26:16  \n",
       "\n",
       "[2 rows x 54 columns]"
      ]
     },
     "execution_count": 62,
     "metadata": {},
     "output_type": "execute_result"
    }
   ],
   "source": [
    "df_NYC_dataset.head(2)"
   ]
  },
  {
   "cell_type": "code",
   "execution_count": 63,
   "metadata": {},
   "outputs": [
    {
     "name": "stderr",
     "output_type": "stream",
     "text": [
      "D:\\Data_Science_With_Python\\Anaconda_installed\\lib\\site-packages\\ipykernel_launcher.py:1: SettingWithCopyWarning: \n",
      "A value is trying to be set on a copy of a slice from a DataFrame.\n",
      "Try using .loc[row_indexer,col_indexer] = value instead\n",
      "\n",
      "See the caveats in the documentation: https://pandas.pydata.org/pandas-docs/stable/user_guide/indexing.html#returning-a-view-versus-a-copy\n",
      "  \"\"\"Entry point for launching an IPython kernel.\n"
     ]
    }
   ],
   "source": [
    "# Now lets convert the calculated date in seconds to get better representation\n",
    "df_NYC_dataset['Request Closing Time']= df_NYC_dataset['Request Closing Time']/np.timedelta64(1,'s')"
   ]
  },
  {
   "cell_type": "code",
   "execution_count": 64,
   "metadata": {},
   "outputs": [
    {
     "data": {
      "text/plain": [
       "0          3315.0\n",
       "1          5176.0\n",
       "2         17491.0\n",
       "3         27914.0\n",
       "4         12422.0\n",
       "           ...   \n",
       "300692     2309.0\n",
       "300694     7231.0\n",
       "300695    11237.0\n",
       "300696    14733.0\n",
       "300697    14929.0\n",
       "Name: Request Closing Time, Length: 298534, dtype: float64"
      ]
     },
     "execution_count": 64,
     "metadata": {},
     "output_type": "execute_result"
    }
   ],
   "source": [
    "df_NYC_dataset['Request Closing Time']"
   ]
  },
  {
   "cell_type": "code",
   "execution_count": 65,
   "metadata": {},
   "outputs": [
    {
     "data": {
      "text/plain": [
       "count    2.985340e+05\n",
       "mean     1.553183e+04\n",
       "std      2.192214e+04\n",
       "min      6.000000e+01\n",
       "25%      4.593000e+03\n",
       "50%      9.775500e+03\n",
       "75%      1.926000e+04\n",
       "max      2.134342e+06\n",
       "Name: Request Closing Time, dtype: float64"
      ]
     },
     "execution_count": 65,
     "metadata": {},
     "output_type": "execute_result"
    }
   ],
   "source": [
    "# Lets look at the descriptive statistics for the newly craeted column\n",
    "df_NYC_dataset['Request Closing Time'].describe()"
   ]
  },
  {
   "cell_type": "code",
   "execution_count": 66,
   "metadata": {},
   "outputs": [
    {
     "data": {
      "text/plain": [
       "15531.832782865604"
      ]
     },
     "execution_count": 66,
     "metadata": {},
     "output_type": "execute_result"
    }
   ],
   "source": [
    "df_NYC_dataset['Request Closing Time'].mean()"
   ]
  },
  {
   "cell_type": "code",
   "execution_count": 71,
   "metadata": {},
   "outputs": [
    {
     "data": {
      "image/png": "[encoded data removed]",
      "text/plain": [
       "<Figure size 432x288 with 1 Axes>"
      ]
     },
     "metadata": {},
     "output_type": "display_data"
    }
   ],
   "source": [
    "sns.set()\n",
    "sns.distplot(df_NYC_dataset['Request Closing Time'],hist=False)\n",
    "plt.show()"
   ]
  },
  {
   "cell_type": "code",
   "execution_count": 74,
   "metadata": {},
   "outputs": [
    {
     "data": {
      "text/plain": [
       "City              506\n",
       "Complaint Type      0\n",
       "dtype: int64"
      ]
     },
     "execution_count": 74,
     "metadata": {},
     "output_type": "execute_result"
    }
   ],
   "source": [
    "# Check the Number of Null Values in Complaint types and City\n",
    "df_NYC_dataset[['City','Complaint Type']].isna().sum()"
   ]
  },
  {
   "cell_type": "markdown",
   "metadata": {},
   "source": [
    "There are around 506 NA Values in the city columns"
   ]
  },
  {
   "cell_type": "code",
   "execution_count": 78,
   "metadata": {},
   "outputs": [],
   "source": [
    "# Lests impute the NA value with Unknown City\n",
    "df_NYC_dataset['City'].fillna('Unknown City',inplace = True)"
   ]
  },
  {
   "cell_type": "code",
   "execution_count": 79,
   "metadata": {},
   "outputs": [
    {
     "data": {
      "text/plain": [
       "City              0\n",
       "Complaint Type    0\n",
       "dtype: int64"
      ]
     },
     "execution_count": 79,
     "metadata": {},
     "output_type": "execute_result"
    }
   ],
   "source": [
    "# Again, Check the Number of Null Values in Complaint types and City\n",
    "df_NYC_dataset[['City','Complaint Type']].isna().sum()"
   ]
  }
 ],
 "metadata": {
  "kernelspec": {
   "display_name": "Python 3",
   "language": "python",
   "name": "python3"
  },
  "language_info": {
   "codemirror_mode": {
    "name": "ipython",
    "version": 3
   },
   "file_extension": ".py",
   "mimetype": "text/x-python",
   "name": "python",
   "nbconvert_exporter": "python",
   "pygments_lexer": "ipython3",
   "version": "3.8.8"
  }
 },
 "nbformat": 4,
 "nbformat_minor": 4
}
